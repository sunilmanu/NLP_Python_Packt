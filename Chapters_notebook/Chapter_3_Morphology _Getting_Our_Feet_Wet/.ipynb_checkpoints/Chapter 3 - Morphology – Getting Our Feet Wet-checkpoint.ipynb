{
 "cells": [
  {
   "cell_type": "markdown",
   "metadata": {},
   "source": [
    "# Morphology – Getting Our Feet Wet"
   ]
  },
  {
   "cell_type": "markdown",
   "metadata": {},
   "source": [
    "Morphology may be defined as the study of the composition of words using morphemes. A morpheme is the smallest unit of language that has meaning. In this chapter, we will discuss stemming and lemmatizing, stemmer and lemmatizer for non-English languages, developing a morphological analyzer and morphological generator using machine learning tools, search engines, and many such concepts.\n"
   ]
  },
  {
   "cell_type": "raw",
   "metadata": {},
   "source": [
    "In brief, this chapter will include the following topics:\n",
    "•Introducing morphology\n",
    "•Understanding stemmer\n",
    "•Understanding lemmatization\n",
    "•Developing a stemmer for non-English languages\n",
    "•Morphological analyzer\n",
    "•Morphological generator\n",
    "•Search engine"
   ]
  },
  {
   "cell_type": "markdown",
   "metadata": {},
   "source": [
    "# Introducing morphology"
   ]
  },
  {
   "cell_type": "markdown",
   "metadata": {},
   "source": [
    "Morphology may be defined as the study of the production of tokens with the\n",
    "help of morphemes. A morpheme is the basic unit of language carrying meaning. There are two types of morpheme: stems and affixes (suffixes, prefixes, infixes,\n",
    "and circumfixes)."
   ]
  },
  {
   "cell_type": "markdown",
   "metadata": {},
   "source": [
    "Stems are also referred to as free morphemes, since they can even exist without\n",
    "adding affixes. Affixes are referred to as bound morphemes, since they cannot exist\n",
    "in a free form and they always exist along with free morphemes. Consider the word\n",
    "unbelievable. Here, believe is a stem or a free morpheme. It can exist on its own.\n",
    "The morphemes un and able are affixes or bound morphemes. They cannot exist\n",
    "in a free form, but they exist together with stem."
   ]
  },
  {
   "cell_type": "markdown",
   "metadata": {},
   "source": [
    "There are three kinds of language,\n",
    "namely isolating languages, agglutinative languages, and inflecting languages.\n",
    "Morphology has a different meaning in all these languages. Isolating languages are\n",
    "those languages in which words are merely free morphemes and they do not carry\n",
    "any tense (past, present, and future) and number (singular or plural) information.\n",
    "Mandarin Chinese is an example of an isolating language."
   ]
  },
  {
   "cell_type": "markdown",
   "metadata": {},
   "source": [
    "Agglutinative languages\n",
    "are those in which small words combine together to convey compound information.\n",
    "Turkish is an example of an agglutinative language."
   ]
  },
  {
   "cell_type": "markdown",
   "metadata": {},
   "source": [
    "Inflecting languages are\n",
    "those in which words are broken down into simpler units, but all these simpler\n",
    "units exhibit different meanings. Latin is an example of an inflecting language"
   ]
  },
  {
   "cell_type": "markdown",
   "metadata": {},
   "source": [
    "Morphological processes are of the following types: inflection, derivation, semiaffixes\n",
    "and combining forms, and cliticization. Inflection means transforming the word into\n",
    "a form so that it represents person, number, tense, gender, case, aspect, and mood.\n",
    "Here, the syntactic category of a token remains the same. In derivation, the syntactic\n",
    "category of a word is also changed. Semiaffixes are bound morphemes that exhibit\n",
    "words, such as quality, for example, noteworthy, antisocial, anticlockwise, and so on."
   ]
  },
  {
   "cell_type": "markdown",
   "metadata": {},
   "source": [
    "# Understanding stemmer"
   ]
  },
  {
   "cell_type": "markdown",
   "metadata": {},
   "source": [
    "Stemming may be defined as the process of obtaining a stem from a word by\n",
    "eliminating the affixes from a word. For example, in the case of the word raining,\n",
    "stemmer would return the root word or stem word rain by removing the affix from\n",
    "raining. In order to increase the accuracy of information retrieval, search engines\n",
    "mostly use stemming to get the stems and store them as indexed words. Search\n",
    "engines call words with the same meaning synonyms, which may be a kind of query\n",
    "expansion known as conflation. Martin Porter has designed a well-known stemming\n",
    "algorithm known as the Porter stemming algorithm. This algorithm is basically\n",
    "designed to replace and eliminate some well-known suffices present in English\n",
    "words. To perform stemming in NLTK, we can simply do an instantiation of the\n",
    "PorterStemmer class and then perform stemming by calling the stem method."
   ]
  },
  {
   "cell_type": "code",
   "execution_count": 2,
   "metadata": {},
   "outputs": [
    {
     "data": {
      "text/plain": [
       "'work'"
      ]
     },
     "execution_count": 2,
     "metadata": {},
     "output_type": "execute_result"
    }
   ],
   "source": [
    "import nltk\n",
    "from nltk.stem import PorterStemmer\n",
    "stemmerporter = PorterStemmer()\n",
    "stemmerporter.stem('working')"
   ]
  },
  {
   "cell_type": "code",
   "execution_count": 3,
   "metadata": {},
   "outputs": [
    {
     "data": {
      "text/plain": [
       "'happi'"
      ]
     },
     "execution_count": 3,
     "metadata": {},
     "output_type": "execute_result"
    }
   ],
   "source": [
    "stemmerporter.stem('happiness')"
   ]
  },
  {
   "cell_type": "markdown",
   "metadata": {},
   "source": [
    "Types of Stemmers:\n",
    "i)PorterStemmer\n",
    "ii)LancasterStemmer\n",
    "iii)RegExp Stemmer\n",
    "iv)SnowballStemmer"
   ]
  },
  {
   "cell_type": "markdown",
   "metadata": {},
   "source": [
    "# LancasterStemmer \n",
    "Lancaster stemming algorithm was\n",
    "introduced at Lancaster University. Similar to the PorterStemmer class, the\n",
    "LancasterStemmer class is used in NLTK to implement Lancaster stemming.\n",
    "However, one of the major differences between the two algorithms is that Lancaster\n",
    "stemming involves the use of more words of different sentiments as compared to\n",
    "Porter Stemming."
   ]
  },
  {
   "cell_type": "code",
   "execution_count": 5,
   "metadata": {},
   "outputs": [
    {
     "data": {
      "text/plain": [
       "'work'"
      ]
     },
     "execution_count": 5,
     "metadata": {},
     "output_type": "execute_result"
    }
   ],
   "source": [
    "from nltk.stem import LancasterStemmer\n",
    "stemmer_lan=LancasterStemmer()\n",
    "stemmer_lan.stem('working')"
   ]
  },
  {
   "cell_type": "code",
   "execution_count": 8,
   "metadata": {},
   "outputs": [
    {
     "data": {
      "text/plain": [
       "'happy'"
      ]
     },
     "execution_count": 8,
     "metadata": {},
     "output_type": "execute_result"
    }
   ],
   "source": [
    "stemmer_lan.stem('happiness')"
   ]
  },
  {
   "cell_type": "markdown",
   "metadata": {},
   "source": [
    "# RegexStemmer\n",
    "We can also build our own stemmer in NLTK using RegexpStemmer. It works by\n",
    "accepting a string and eliminating the string from the prefix or suffix of a word\n",
    "when a match is found."
   ]
  },
  {
   "cell_type": "code",
   "execution_count": 9,
   "metadata": {},
   "outputs": [
    {
     "data": {
      "text/plain": [
       "'work'"
      ]
     },
     "execution_count": 9,
     "metadata": {},
     "output_type": "execute_result"
    }
   ],
   "source": [
    "from nltk.stem import RegexpStemmer\n",
    "stemmer_regexp=RegexpStemmer('ing')\n",
    "stemmer_regexp.stem('working')"
   ]
  },
  {
   "cell_type": "code",
   "execution_count": 10,
   "metadata": {},
   "outputs": [
    {
     "data": {
      "text/plain": [
       "'happiness'"
      ]
     },
     "execution_count": 10,
     "metadata": {},
     "output_type": "execute_result"
    }
   ],
   "source": [
    " stemmer_regexp.stem('happiness')\n"
   ]
  },
  {
   "cell_type": "code",
   "execution_count": 11,
   "metadata": {},
   "outputs": [
    {
     "data": {
      "text/plain": [
       "'pair'"
      ]
     },
     "execution_count": 11,
     "metadata": {},
     "output_type": "execute_result"
    }
   ],
   "source": [
    " stemmer_regexp.stem('pairing')"
   ]
  },
  {
   "cell_type": "markdown",
   "metadata": {},
   "source": [
    "# SnowballStemmer\n",
    "SnowballStemmer is used to perform stemming in 13 languages other than English.\n",
    "In order to perform stemming using SnowballStemmer, firstly, an instance is created\n",
    "in the language in which stemming needs to be performed. Then, using the stem()\n",
    "method, stemming is performed."
   ]
  },
  {
   "cell_type": "code",
   "execution_count": 12,
   "metadata": {},
   "outputs": [
    {
     "data": {
      "text/plain": [
       "('arabic',\n",
       " 'danish',\n",
       " 'dutch',\n",
       " 'english',\n",
       " 'finnish',\n",
       " 'french',\n",
       " 'german',\n",
       " 'hungarian',\n",
       " 'italian',\n",
       " 'norwegian',\n",
       " 'porter',\n",
       " 'portuguese',\n",
       " 'romanian',\n",
       " 'russian',\n",
       " 'spanish',\n",
       " 'swedish')"
      ]
     },
     "execution_count": 12,
     "metadata": {},
     "output_type": "execute_result"
    }
   ],
   "source": [
    "from nltk.stem import SnowballStemmer\n",
    "SnowballStemmer.languages"
   ]
  },
  {
   "cell_type": "code",
   "execution_count": 14,
   "metadata": {},
   "outputs": [
    {
     "data": {
      "text/plain": [
       "'com'"
      ]
     },
     "execution_count": 14,
     "metadata": {},
     "output_type": "execute_result"
    }
   ],
   "source": [
    "spanishstemmer=SnowballStemmer('spanish')\n",
    "spanishstemmer.stem('comiendo')"
   ]
  },
  {
   "cell_type": "code",
   "execution_count": 15,
   "metadata": {},
   "outputs": [
    {
     "data": {
      "text/plain": [
       "'mang'"
      ]
     },
     "execution_count": 15,
     "metadata": {},
     "output_type": "execute_result"
    }
   ],
   "source": [
    "frenchstemmer=SnowballStemmer('french')\n",
    "frenchstemmer.stem('manger')"
   ]
  },
  {
   "cell_type": "markdown",
   "metadata": {},
   "source": [
    "# Understanding lemmatization"
   ]
  },
  {
   "cell_type": "markdown",
   "metadata": {},
   "source": [
    "Lemmatization is the process in which we transform the word into a form with a\n",
    "different word category. The word formed after lemmatization is entirely different.\n",
    "The built-in morphy() function is used for lemmatization in WordNetLemmatizer.\n",
    "The inputted word is left unchanged if it is not found in WordNet. In the argument,\n",
    "pos refers to the part of speech category of the inputted word.\n",
    "\n",
    "Consider an example of lemmatization in NLTK:"
   ]
  },
  {
   "cell_type": "code",
   "execution_count": 18,
   "metadata": {},
   "outputs": [
    {
     "data": {
      "text/plain": [
       "'working'"
      ]
     },
     "execution_count": 18,
     "metadata": {},
     "output_type": "execute_result"
    }
   ],
   "source": [
    "from nltk.stem import WordNetLemmatizer\n",
    "lemmatizer_output=WordNetLemmatizer()\n",
    "lemmatizer_output.lemmatize('working')"
   ]
  },
  {
   "cell_type": "code",
   "execution_count": 19,
   "metadata": {},
   "outputs": [
    {
     "data": {
      "text/plain": [
       "'work'"
      ]
     },
     "execution_count": 19,
     "metadata": {},
     "output_type": "execute_result"
    }
   ],
   "source": [
    "lemmatizer_output.lemmatize('working',pos='v')"
   ]
  },
  {
   "cell_type": "code",
   "execution_count": 20,
   "metadata": {},
   "outputs": [
    {
     "data": {
      "text/plain": [
       "'work'"
      ]
     },
     "execution_count": 20,
     "metadata": {},
     "output_type": "execute_result"
    }
   ],
   "source": [
    "lemmatizer_output.lemmatize('works')"
   ]
  },
  {
   "cell_type": "markdown",
   "metadata": {},
   "source": [
    "# Developing a stemmer for non-English language"
   ]
  },
  {
   "cell_type": "code",
   "execution_count": null,
   "metadata": {},
   "outputs": [],
   "source": []
  }
 ],
 "metadata": {
  "kernelspec": {
   "display_name": "Python 3.6 (tensorflow)",
   "language": "python",
   "name": "dfhdfh"
  },
  "language_info": {
   "codemirror_mode": {
    "name": "ipython",
    "version": 3
   },
   "file_extension": ".py",
   "mimetype": "text/x-python",
   "name": "python",
   "nbconvert_exporter": "python",
   "pygments_lexer": "ipython3",
   "version": "3.6.6"
  }
 },
 "nbformat": 4,
 "nbformat_minor": 2
}
